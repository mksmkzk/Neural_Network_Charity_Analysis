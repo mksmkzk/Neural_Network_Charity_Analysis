{
 "cells": [
  {
   "cell_type": "code",
   "execution_count": 1,
   "metadata": {},
   "outputs": [],
   "source": [
    "# Import our dependencies\n",
    "import pandas as pd\n",
    "import matplotlib as plt\n",
    "from sklearn.datasets import make_blobs\n",
    "import sklearn as skl\n",
    "import tensorflow as tf"
   ]
  },
  {
   "cell_type": "code",
   "execution_count": 2,
   "metadata": {},
   "outputs": [
    {
     "data": {
      "text/plain": [
       "<AxesSubplot:xlabel='Feature 1', ylabel='Feature 2'>"
      ]
     },
     "execution_count": 2,
     "metadata": {},
     "output_type": "execute_result"
    },
    {
     "data": {
      "image/png": "[encoded data removed]",
      "text/plain": [
       "<Figure size 432x288 with 2 Axes>"
      ]
     },
     "metadata": {
      "needs_background": "light"
     },
     "output_type": "display_data"
    }
   ],
   "source": [
    "# Generate dummy dataset\n",
    "X, y = make_blobs(n_samples=1000, centers=2, n_features=2, random_state=78)\n",
    "\n",
    "# Creating a DataFrame with the dummy data\n",
    "df = pd.DataFrame(X, columns=[\"Feature 1\", \"Feature 2\"])\n",
    "df[\"Target\"] = y\n",
    "\n",
    "# Plotting the dummy data\n",
    "df.plot.scatter(x=\"Feature 1\", y=\"Feature 2\", c=\"Target\", colormap=\"winter\")"
   ]
  },
  {
   "cell_type": "code",
   "execution_count": 3,
   "metadata": {},
   "outputs": [],
   "source": [
    "# Use sklearn to split dataset\n",
    "from sklearn.model_selection import train_test_split\n",
    "X_train, X_test, y_train, y_test = train_test_split(X, y, random_state=78)"
   ]
  },
  {
   "cell_type": "code",
   "execution_count": 4,
   "metadata": {},
   "outputs": [],
   "source": [
    "# Create scaler instance\n",
    "X_scaler = skl.preprocessing.StandardScaler()\n",
    "\n",
    "# Fit the scaler\n",
    "X_scaler.fit(X_train)\n",
    "\n",
    "# Scale the data\n",
    "X_train_scaled = X_scaler.transform(X_train)\n",
    "X_test_scaled = X_scaler.transform(X_test)"
   ]
  },
  {
   "cell_type": "code",
   "execution_count": 5,
   "metadata": {},
   "outputs": [],
   "source": [
    "# Create the Keras Sequential model\n",
    "nn_model = tf.keras.models.Sequential()"
   ]
  },
  {
   "cell_type": "code",
   "execution_count": 6,
   "metadata": {},
   "outputs": [],
   "source": [
    "# Add our first Dense layer, including the input layer\n",
    "nn_model.add(tf.keras.layers.Dense(units=1, activation=\"relu\", input_dim=2))"
   ]
  },
  {
   "cell_type": "code",
   "execution_count": 7,
   "metadata": {},
   "outputs": [],
   "source": [
    "# Add the output layer that uses a probability activation function\n",
    "nn_model.add(tf.keras.layers.Dense(units=1, activation=\"sigmoid\"))"
   ]
  },
  {
   "cell_type": "code",
   "execution_count": 8,
   "metadata": {},
   "outputs": [
    {
     "name": "stdout",
     "output_type": "stream",
     "text": [
      "Model: \"sequential\"\n",
      "_________________________________________________________________\n",
      " Layer (type)                Output Shape              Param #   \n",
      "=================================================================\n",
      " dense (Dense)               (None, 1)                 3         \n",
      "                                                                 \n",
      " dense_1 (Dense)             (None, 1)                 2         \n",
      "                                                                 \n",
      "=================================================================\n",
      "Total params: 5\n",
      "Trainable params: 5\n",
      "Non-trainable params: 0\n",
      "_________________________________________________________________\n"
     ]
    }
   ],
   "source": [
    "# Check the structure of the Sequential model\n",
    "nn_model.summary()"
   ]
  },
  {
   "cell_type": "code",
   "execution_count": 9,
   "metadata": {},
   "outputs": [],
   "source": [
    "# Compile the Sequential model together and customize metrics\n",
    "nn_model.compile(loss=\"binary_crossentropy\", optimizer=\"adam\", metrics=[\"accuracy\"])"
   ]
  },
  {
   "cell_type": "code",
   "execution_count": 10,
   "metadata": {},
   "outputs": [
    {
     "name": "stdout",
     "output_type": "stream",
     "text": [
      "Epoch 1/100\n",
      "24/24 [==============================] - 0s 1ms/step - loss: 0.4506 - accuracy: 0.9760\n",
      "Epoch 2/100\n",
      "24/24 [==============================] - 0s 565us/step - loss: 0.4375 - accuracy: 1.0000\n",
      "Epoch 3/100\n",
      "24/24 [==============================] - 0s 565us/step - loss: 0.4247 - accuracy: 1.0000\n",
      "Epoch 4/100\n",
      "24/24 [==============================] - 0s 565us/step - loss: 0.4125 - accuracy: 1.0000\n",
      "Epoch 5/100\n",
      "24/24 [==============================] - 0s 565us/step - loss: 0.4007 - accuracy: 1.0000\n",
      "Epoch 6/100\n",
      "24/24 [==============================] - 0s 587us/step - loss: 0.3895 - accuracy: 1.0000\n",
      "Epoch 7/100\n",
      "24/24 [==============================] - 0s 522us/step - loss: 0.3786 - accuracy: 1.0000\n",
      "Epoch 8/100\n",
      "24/24 [==============================] - 0s 565us/step - loss: 0.3682 - accuracy: 1.0000\n",
      "Epoch 9/100\n",
      "24/24 [==============================] - 0s 565us/step - loss: 0.3583 - accuracy: 1.0000\n",
      "Epoch 10/100\n",
      "24/24 [==============================] - 0s 544us/step - loss: 0.3488 - accuracy: 1.0000\n",
      "Epoch 11/100\n",
      "24/24 [==============================] - 0s 522us/step - loss: 0.3397 - accuracy: 1.0000\n",
      "Epoch 12/100\n",
      "24/24 [==============================] - 0s 587us/step - loss: 0.3310 - accuracy: 1.0000\n",
      "Epoch 13/100\n",
      "24/24 [==============================] - 0s 544us/step - loss: 0.3227 - accuracy: 1.0000\n",
      "Epoch 14/100\n",
      "24/24 [==============================] - 0s 544us/step - loss: 0.3146 - accuracy: 1.0000\n",
      "Epoch 15/100\n",
      "24/24 [==============================] - 0s 587us/step - loss: 0.3070 - accuracy: 1.0000\n",
      "Epoch 16/100\n",
      "24/24 [==============================] - 0s 587us/step - loss: 0.2996 - accuracy: 1.0000\n",
      "Epoch 17/100\n",
      "24/24 [==============================] - 0s 565us/step - loss: 0.2925 - accuracy: 1.0000\n",
      "Epoch 18/100\n",
      "24/24 [==============================] - 0s 544us/step - loss: 0.2857 - accuracy: 1.0000\n",
      "Epoch 19/100\n",
      "24/24 [==============================] - 0s 544us/step - loss: 0.2792 - accuracy: 1.0000\n",
      "Epoch 20/100\n",
      "24/24 [==============================] - 0s 587us/step - loss: 0.2728 - accuracy: 1.0000\n",
      "Epoch 21/100\n",
      "24/24 [==============================] - 0s 609us/step - loss: 0.2667 - accuracy: 1.0000\n",
      "Epoch 22/100\n",
      "24/24 [==============================] - 0s 587us/step - loss: 0.2609 - accuracy: 1.0000\n",
      "Epoch 23/100\n",
      "24/24 [==============================] - 0s 544us/step - loss: 0.2552 - accuracy: 1.0000\n",
      "Epoch 24/100\n",
      "24/24 [==============================] - 0s 565us/step - loss: 0.2497 - accuracy: 1.0000\n",
      "Epoch 25/100\n",
      "24/24 [==============================] - 0s 565us/step - loss: 0.2444 - accuracy: 1.0000\n",
      "Epoch 26/100\n",
      "24/24 [==============================] - 0s 609us/step - loss: 0.2393 - accuracy: 1.0000\n",
      "Epoch 27/100\n",
      "24/24 [==============================] - 0s 544us/step - loss: 0.2343 - accuracy: 1.0000\n",
      "Epoch 28/100\n",
      "24/24 [==============================] - 0s 565us/step - loss: 0.2295 - accuracy: 1.0000\n",
      "Epoch 29/100\n",
      "24/24 [==============================] - 0s 543us/step - loss: 0.2248 - accuracy: 1.0000\n",
      "Epoch 30/100\n",
      "24/24 [==============================] - 0s 587us/step - loss: 0.2203 - accuracy: 1.0000\n",
      "Epoch 31/100\n",
      "24/24 [==============================] - 0s 565us/step - loss: 0.2159 - accuracy: 1.0000\n",
      "Epoch 32/100\n",
      "24/24 [==============================] - 0s 565us/step - loss: 0.2117 - accuracy: 1.0000\n",
      "Epoch 33/100\n",
      "24/24 [==============================] - 0s 565us/step - loss: 0.2075 - accuracy: 1.0000\n",
      "Epoch 34/100\n",
      "24/24 [==============================] - 0s 587us/step - loss: 0.2035 - accuracy: 1.0000\n",
      "Epoch 35/100\n",
      "24/24 [==============================] - 0s 565us/step - loss: 0.1996 - accuracy: 1.0000\n",
      "Epoch 36/100\n",
      "24/24 [==============================] - 0s 587us/step - loss: 0.1958 - accuracy: 1.0000\n",
      "Epoch 37/100\n",
      "24/24 [==============================] - 0s 544us/step - loss: 0.1922 - accuracy: 1.0000\n",
      "Epoch 38/100\n",
      "24/24 [==============================] - 0s 565us/step - loss: 0.1886 - accuracy: 1.0000\n",
      "Epoch 39/100\n",
      "24/24 [==============================] - 0s 609us/step - loss: 0.1851 - accuracy: 1.0000\n",
      "Epoch 40/100\n",
      "24/24 [==============================] - 0s 565us/step - loss: 0.1817 - accuracy: 1.0000\n",
      "Epoch 41/100\n",
      "24/24 [==============================] - 0s 544us/step - loss: 0.1784 - accuracy: 1.0000\n",
      "Epoch 42/100\n",
      "24/24 [==============================] - 0s 565us/step - loss: 0.1752 - accuracy: 1.0000\n",
      "Epoch 43/100\n",
      "24/24 [==============================] - 0s 565us/step - loss: 0.1720 - accuracy: 1.0000\n",
      "Epoch 44/100\n",
      "24/24 [==============================] - 0s 609us/step - loss: 0.1689 - accuracy: 1.0000\n",
      "Epoch 45/100\n",
      "24/24 [==============================] - 0s 587us/step - loss: 0.1659 - accuracy: 1.0000\n",
      "Epoch 46/100\n",
      "24/24 [==============================] - 0s 544us/step - loss: 0.1630 - accuracy: 1.0000\n",
      "Epoch 47/100\n",
      "24/24 [==============================] - 0s 565us/step - loss: 0.1602 - accuracy: 1.0000\n",
      "Epoch 48/100\n",
      "24/24 [==============================] - 0s 544us/step - loss: 0.1573 - accuracy: 1.0000\n",
      "Epoch 49/100\n",
      "24/24 [==============================] - 0s 631us/step - loss: 0.1547 - accuracy: 1.0000\n",
      "Epoch 50/100\n",
      "24/24 [==============================] - 0s 609us/step - loss: 0.1520 - accuracy: 1.0000\n",
      "Epoch 51/100\n",
      "24/24 [==============================] - 0s 609us/step - loss: 0.1494 - accuracy: 1.0000\n",
      "Epoch 52/100\n",
      "24/24 [==============================] - 0s 717us/step - loss: 0.1468 - accuracy: 1.0000\n",
      "Epoch 53/100\n",
      "24/24 [==============================] - 0s 739us/step - loss: 0.1444 - accuracy: 1.0000\n",
      "Epoch 54/100\n",
      "24/24 [==============================] - 0s 631us/step - loss: 0.1419 - accuracy: 1.0000\n",
      "Epoch 55/100\n",
      "24/24 [==============================] - 0s 609us/step - loss: 0.1396 - accuracy: 1.0000\n",
      "Epoch 56/100\n",
      "24/24 [==============================] - 0s 565us/step - loss: 0.1373 - accuracy: 1.0000\n",
      "Epoch 57/100\n",
      "24/24 [==============================] - 0s 565us/step - loss: 0.1350 - accuracy: 1.0000\n",
      "Epoch 58/100\n",
      "24/24 [==============================] - 0s 565us/step - loss: 0.1328 - accuracy: 1.0000\n",
      "Epoch 59/100\n",
      "24/24 [==============================] - 0s 544us/step - loss: 0.1306 - accuracy: 1.0000\n",
      "Epoch 60/100\n",
      "24/24 [==============================] - 0s 587us/step - loss: 0.1285 - accuracy: 1.0000\n",
      "Epoch 61/100\n",
      "24/24 [==============================] - 0s 565us/step - loss: 0.1264 - accuracy: 1.0000\n",
      "Epoch 62/100\n",
      "24/24 [==============================] - 0s 587us/step - loss: 0.1244 - accuracy: 1.0000\n",
      "Epoch 63/100\n",
      "24/24 [==============================] - 0s 565us/step - loss: 0.1224 - accuracy: 1.0000\n",
      "Epoch 64/100\n",
      "24/24 [==============================] - 0s 565us/step - loss: 0.1204 - accuracy: 1.0000\n",
      "Epoch 65/100\n",
      "24/24 [==============================] - 0s 587us/step - loss: 0.1185 - accuracy: 1.0000\n",
      "Epoch 66/100\n",
      "24/24 [==============================] - 0s 500us/step - loss: 0.1166 - accuracy: 1.0000\n",
      "Epoch 67/100\n",
      "24/24 [==============================] - 0s 565us/step - loss: 0.1148 - accuracy: 1.0000\n",
      "Epoch 68/100\n",
      "24/24 [==============================] - 0s 522us/step - loss: 0.1130 - accuracy: 1.0000\n",
      "Epoch 69/100\n",
      "24/24 [==============================] - 0s 565us/step - loss: 0.1113 - accuracy: 1.0000\n",
      "Epoch 70/100\n",
      "24/24 [==============================] - 0s 522us/step - loss: 0.1095 - accuracy: 1.0000\n",
      "Epoch 71/100\n",
      "24/24 [==============================] - 0s 565us/step - loss: 0.1079 - accuracy: 1.0000\n",
      "Epoch 72/100\n",
      "24/24 [==============================] - 0s 544us/step - loss: 0.1062 - accuracy: 1.0000\n",
      "Epoch 73/100\n",
      "24/24 [==============================] - 0s 544us/step - loss: 0.1046 - accuracy: 1.0000\n",
      "Epoch 74/100\n",
      "24/24 [==============================] - 0s 522us/step - loss: 0.1030 - accuracy: 1.0000\n",
      "Epoch 75/100\n",
      "24/24 [==============================] - 0s 565us/step - loss: 0.1014 - accuracy: 1.0000\n",
      "Epoch 76/100\n",
      "24/24 [==============================] - 0s 544us/step - loss: 0.0999 - accuracy: 1.0000\n",
      "Epoch 77/100\n",
      "24/24 [==============================] - 0s 544us/step - loss: 0.0984 - accuracy: 1.0000\n",
      "Epoch 78/100\n",
      "24/24 [==============================] - 0s 544us/step - loss: 0.0969 - accuracy: 1.0000\n",
      "Epoch 79/100\n",
      "24/24 [==============================] - 0s 522us/step - loss: 0.0955 - accuracy: 1.0000\n",
      "Epoch 80/100\n",
      "24/24 [==============================] - 0s 587us/step - loss: 0.0941 - accuracy: 1.0000\n",
      "Epoch 81/100\n",
      "24/24 [==============================] - 0s 587us/step - loss: 0.0927 - accuracy: 1.0000\n",
      "Epoch 82/100\n",
      "24/24 [==============================] - 0s 522us/step - loss: 0.0913 - accuracy: 1.0000\n",
      "Epoch 83/100\n",
      "24/24 [==============================] - 0s 565us/step - loss: 0.0900 - accuracy: 1.0000\n",
      "Epoch 84/100\n",
      "24/24 [==============================] - 0s 522us/step - loss: 0.0887 - accuracy: 1.0000\n",
      "Epoch 85/100\n",
      "24/24 [==============================] - 0s 565us/step - loss: 0.0874 - accuracy: 1.0000\n",
      "Epoch 86/100\n",
      "24/24 [==============================] - 0s 565us/step - loss: 0.0861 - accuracy: 1.0000\n",
      "Epoch 87/100\n",
      "24/24 [==============================] - 0s 544us/step - loss: 0.0849 - accuracy: 1.0000\n",
      "Epoch 88/100\n",
      "24/24 [==============================] - 0s 587us/step - loss: 0.0837 - accuracy: 1.0000\n",
      "Epoch 89/100\n",
      "24/24 [==============================] - 0s 565us/step - loss: 0.0825 - accuracy: 1.0000\n",
      "Epoch 90/100\n",
      "24/24 [==============================] - 0s 522us/step - loss: 0.0813 - accuracy: 1.0000\n",
      "Epoch 91/100\n",
      "24/24 [==============================] - 0s 544us/step - loss: 0.0802 - accuracy: 1.0000\n",
      "Epoch 92/100\n",
      "24/24 [==============================] - 0s 565us/step - loss: 0.0790 - accuracy: 1.0000\n",
      "Epoch 93/100\n",
      "24/24 [==============================] - 0s 544us/step - loss: 0.0779 - accuracy: 1.0000\n",
      "Epoch 94/100\n",
      "24/24 [==============================] - 0s 565us/step - loss: 0.0768 - accuracy: 1.0000\n",
      "Epoch 95/100\n",
      "24/24 [==============================] - 0s 544us/step - loss: 0.0758 - accuracy: 1.0000\n",
      "Epoch 96/100\n",
      "24/24 [==============================] - 0s 544us/step - loss: 0.0747 - accuracy: 1.0000\n",
      "Epoch 97/100\n",
      "24/24 [==============================] - 0s 522us/step - loss: 0.0736 - accuracy: 1.0000\n",
      "Epoch 98/100\n",
      "24/24 [==============================] - 0s 544us/step - loss: 0.0726 - accuracy: 1.0000\n",
      "Epoch 99/100\n",
      "24/24 [==============================] - 0s 587us/step - loss: 0.0716 - accuracy: 1.0000\n",
      "Epoch 100/100\n",
      "24/24 [==============================] - 0s 565us/step - loss: 0.0706 - accuracy: 1.0000\n"
     ]
    }
   ],
   "source": [
    "# Fit the model to the training data\n",
    "fit_model = nn_model.fit(X_train_scaled, y_train, epochs=100)"
   ]
  },
  {
   "cell_type": "code",
   "execution_count": 11,
   "metadata": {},
   "outputs": [
    {
     "data": {
      "text/plain": [
       "<AxesSubplot:>"
      ]
     },
     "execution_count": 11,
     "metadata": {},
     "output_type": "execute_result"
    },
    {
     "data": {
      "image/png": "[encoded data removed]",
      "text/plain": [
       "<Figure size 432x288 with 1 Axes>"
      ]
     },
     "metadata": {
      "needs_background": "light"
     },
     "output_type": "display_data"
    }
   ],
   "source": [
    "# Create a DataFrame containing training history\n",
    "history_df = pd.DataFrame(fit_model.history, index=range(1,len(fit_model.history[\"loss\"])+1))\n",
    "\n",
    "# Plot the loss\n",
    "history_df.plot(y=\"loss\")"
   ]
  },
  {
   "cell_type": "code",
   "execution_count": 12,
   "metadata": {},
   "outputs": [
    {
     "data": {
      "text/plain": [
       "<AxesSubplot:>"
      ]
     },
     "execution_count": 12,
     "metadata": {},
     "output_type": "execute_result"
    },
    {
     "data": {
      "image/png": "[encoded data removed]",
      "text/plain": [
       "<Figure size 432x288 with 1 Axes>"
      ]
     },
     "metadata": {
      "needs_background": "light"
     },
     "output_type": "display_data"
    }
   ],
   "source": [
    "# Plot the accuracy\n",
    "history_df.plot(y=\"accuracy\")"
   ]
  },
  {
   "cell_type": "code",
   "execution_count": 13,
   "metadata": {},
   "outputs": [
    {
     "name": "stdout",
     "output_type": "stream",
     "text": [
      "8/8 - 0s - loss: 0.0733 - accuracy: 1.0000 - 79ms/epoch - 10ms/step\n",
      "Loss: 0.07331740111112595, Accuracy: 1.0\n"
     ]
    }
   ],
   "source": [
    "# Evaluate the model using the test data\n",
    "model_loss, model_accuracy = nn_model.evaluate(X_test_scaled,y_test,verbose=2)\n",
    "print(f\"Loss: {model_loss}, Accuracy: {model_accuracy}\")"
   ]
  },
  {
   "cell_type": "code",
   "execution_count": 14,
   "metadata": {},
   "outputs": [
    {
     "data": {
      "text/plain": [
       "array([[0],\n",
       "       [1],\n",
       "       [0],\n",
       "       [1],\n",
       "       [0],\n",
       "       [0],\n",
       "       [1],\n",
       "       [1],\n",
       "       [1],\n",
       "       [0]])"
      ]
     },
     "execution_count": 14,
     "metadata": {},
     "output_type": "execute_result"
    }
   ],
   "source": [
    "# Predict the classification of a new set of blob data\n",
    "new_X, new_Y = make_blobs(n_samples=10, centers=2, n_features=2, random_state=78)\n",
    "new_X_scaled = X_scaler.transform(new_X)\n",
    "(nn_model.predict(new_X_scaled) > 0.5).astype(\"int32\")"
   ]
  },
  {
   "cell_type": "code",
   "execution_count": 15,
   "metadata": {},
   "outputs": [
    {
     "data": {
      "text/plain": [
       "<AxesSubplot:xlabel='Feature 1', ylabel='Feature 2'>"
      ]
     },
     "execution_count": 15,
     "metadata": {},
     "output_type": "execute_result"
    },
    {
     "data": {
      "image/png": "[encoded data removed]",
      "text/plain": [
       "<Figure size 432x288 with 2 Axes>"
      ]
     },
     "metadata": {
      "needs_background": "light"
     },
     "output_type": "display_data"
    }
   ],
   "source": [
    "from sklearn.datasets import make_moons\n",
    "\n",
    "# Creating dummy nonlinear data\n",
    "X_moons, y_moons = make_moons(n_samples=1000, noise=0.08, random_state=78)\n",
    "\n",
    "# Transforming y_moons to a vertical vector\n",
    "y_moons = y_moons.reshape(-1, 1)\n",
    "\n",
    "# Creating a DataFrame to plot the nonlinear dummy data\n",
    "df_moons = pd.DataFrame(X_moons, columns=[\"Feature 1\", \"Feature 2\"])\n",
    "df_moons[\"Target\"] = y_moons\n",
    "\n",
    "# Plot the nonlinear dummy data\n",
    "df_moons.plot.scatter(x=\"Feature 1\",y=\"Feature 2\", c=\"Target\",colormap=\"winter\")"
   ]
  },
  {
   "cell_type": "code",
   "execution_count": 16,
   "metadata": {},
   "outputs": [],
   "source": [
    "# Create training and testing sets\n",
    "X_moon_train, X_moon_test, y_moon_train, y_moon_test = train_test_split(\n",
    "    X_moons, y_moons, random_state=78\n",
    ")\n",
    "\n",
    "# Create the scaler instance\n",
    "X_moon_scaler = skl.preprocessing.StandardScaler()\n",
    "\n",
    "# Fit the scaler\n",
    "X_moon_scaler.fit(X_moon_train)\n",
    "\n",
    "# Scale the data\n",
    "X_moon_train_scaled = X_moon_scaler.transform(X_moon_train)\n",
    "X_moon_test_scaled = X_moon_scaler.transform(X_moon_test)"
   ]
  },
  {
   "cell_type": "code",
   "execution_count": 17,
   "metadata": {},
   "outputs": [
    {
     "name": "stdout",
     "output_type": "stream",
     "text": [
      "Epoch 1/100\n",
      "24/24 [==============================] - 0s 826us/step - loss: 1.0110 - accuracy: 0.5360\n",
      "Epoch 2/100\n",
      "24/24 [==============================] - 0s 805us/step - loss: 0.8935 - accuracy: 0.5533\n",
      "Epoch 3/100\n",
      "24/24 [==============================] - 0s 783us/step - loss: 0.8146 - accuracy: 0.5680\n",
      "Epoch 4/100\n",
      "24/24 [==============================] - 0s 783us/step - loss: 0.7642 - accuracy: 0.5907\n",
      "Epoch 5/100\n",
      "24/24 [==============================] - 0s 848us/step - loss: 0.7272 - accuracy: 0.6000\n",
      "Epoch 6/100\n",
      "24/24 [==============================] - 0s 848us/step - loss: 0.6981 - accuracy: 0.6173\n",
      "Epoch 7/100\n",
      "24/24 [==============================] - 0s 826us/step - loss: 0.6746 - accuracy: 0.6360\n",
      "Epoch 8/100\n",
      "24/24 [==============================] - 0s 804us/step - loss: 0.6537 - accuracy: 0.6467\n",
      "Epoch 9/100\n",
      "24/24 [==============================] - 0s 804us/step - loss: 0.6360 - accuracy: 0.6587\n",
      "Epoch 10/100\n",
      "24/24 [==============================] - 0s 739us/step - loss: 0.6196 - accuracy: 0.6667\n",
      "Epoch 11/100\n",
      "24/24 [==============================] - 0s 848us/step - loss: 0.6045 - accuracy: 0.6747\n",
      "Epoch 12/100\n",
      "24/24 [==============================] - 0s 870us/step - loss: 0.5903 - accuracy: 0.6787\n",
      "Epoch 13/100\n",
      "24/24 [==============================] - 0s 848us/step - loss: 0.5774 - accuracy: 0.6867\n",
      "Epoch 14/100\n",
      "24/24 [==============================] - 0s 805us/step - loss: 0.5657 - accuracy: 0.6947\n",
      "Epoch 15/100\n",
      "24/24 [==============================] - 0s 826us/step - loss: 0.5544 - accuracy: 0.7000\n",
      "Epoch 16/100\n",
      "24/24 [==============================] - 0s 804us/step - loss: 0.5438 - accuracy: 0.7053\n",
      "Epoch 17/100\n",
      "24/24 [==============================] - 0s 805us/step - loss: 0.5339 - accuracy: 0.7080\n",
      "Epoch 18/100\n",
      "24/24 [==============================] - 0s 739us/step - loss: 0.5243 - accuracy: 0.7147\n",
      "Epoch 19/100\n",
      "24/24 [==============================] - 0s 783us/step - loss: 0.5152 - accuracy: 0.7213\n",
      "Epoch 20/100\n",
      "24/24 [==============================] - 0s 805us/step - loss: 0.5061 - accuracy: 0.7240\n",
      "Epoch 21/100\n",
      "24/24 [==============================] - 0s 783us/step - loss: 0.4974 - accuracy: 0.7320\n",
      "Epoch 22/100\n",
      "24/24 [==============================] - 0s 848us/step - loss: 0.4886 - accuracy: 0.7387\n",
      "Epoch 23/100\n",
      "24/24 [==============================] - 0s 739us/step - loss: 0.4799 - accuracy: 0.7427\n",
      "Epoch 24/100\n",
      "24/24 [==============================] - 0s 783us/step - loss: 0.4717 - accuracy: 0.7453\n",
      "Epoch 25/100\n",
      "24/24 [==============================] - 0s 761us/step - loss: 0.4631 - accuracy: 0.7507\n",
      "Epoch 26/100\n",
      "24/24 [==============================] - 0s 848us/step - loss: 0.4546 - accuracy: 0.7560\n",
      "Epoch 27/100\n",
      "24/24 [==============================] - 0s 826us/step - loss: 0.4461 - accuracy: 0.7640\n",
      "Epoch 28/100\n",
      "24/24 [==============================] - 0s 826us/step - loss: 0.4378 - accuracy: 0.7667\n",
      "Epoch 29/100\n",
      "24/24 [==============================] - 0s 783us/step - loss: 0.4298 - accuracy: 0.7680\n",
      "Epoch 30/100\n",
      "24/24 [==============================] - 0s 783us/step - loss: 0.4223 - accuracy: 0.7760\n",
      "Epoch 31/100\n",
      "24/24 [==============================] - 0s 761us/step - loss: 0.4145 - accuracy: 0.7787\n",
      "Epoch 32/100\n",
      "24/24 [==============================] - 0s 804us/step - loss: 0.4070 - accuracy: 0.7867\n",
      "Epoch 33/100\n",
      "24/24 [==============================] - 0s 783us/step - loss: 0.3993 - accuracy: 0.7920\n",
      "Epoch 34/100\n",
      "24/24 [==============================] - 0s 804us/step - loss: 0.3918 - accuracy: 0.7973\n",
      "Epoch 35/100\n",
      "24/24 [==============================] - 0s 891us/step - loss: 0.3846 - accuracy: 0.8040\n",
      "Epoch 36/100\n",
      "24/24 [==============================] - 0s 870us/step - loss: 0.3775 - accuracy: 0.8067\n",
      "Epoch 37/100\n",
      "24/24 [==============================] - 0s 761us/step - loss: 0.3709 - accuracy: 0.8093\n",
      "Epoch 38/100\n",
      "24/24 [==============================] - 0s 804us/step - loss: 0.3642 - accuracy: 0.8133\n",
      "Epoch 39/100\n",
      "24/24 [==============================] - 0s 761us/step - loss: 0.3579 - accuracy: 0.8213\n",
      "Epoch 40/100\n",
      "24/24 [==============================] - 0s 783us/step - loss: 0.3517 - accuracy: 0.8280\n",
      "Epoch 41/100\n",
      "24/24 [==============================] - 0s 804us/step - loss: 0.3458 - accuracy: 0.8320\n",
      "Epoch 42/100\n",
      "24/24 [==============================] - 0s 761us/step - loss: 0.3401 - accuracy: 0.8387\n",
      "Epoch 43/100\n",
      "24/24 [==============================] - 0s 805us/step - loss: 0.3347 - accuracy: 0.8427\n",
      "Epoch 44/100\n",
      "24/24 [==============================] - 0s 761us/step - loss: 0.3297 - accuracy: 0.8453\n",
      "Epoch 45/100\n",
      "24/24 [==============================] - 0s 826us/step - loss: 0.3253 - accuracy: 0.8507\n",
      "Epoch 46/100\n",
      "24/24 [==============================] - 0s 761us/step - loss: 0.3211 - accuracy: 0.8507\n",
      "Epoch 47/100\n",
      "24/24 [==============================] - 0s 826us/step - loss: 0.3171 - accuracy: 0.8507\n",
      "Epoch 48/100\n",
      "24/24 [==============================] - 0s 804us/step - loss: 0.3137 - accuracy: 0.8507\n",
      "Epoch 49/100\n",
      "24/24 [==============================] - 0s 826us/step - loss: 0.3106 - accuracy: 0.8520\n",
      "Epoch 50/100\n",
      "24/24 [==============================] - 0s 804us/step - loss: 0.3079 - accuracy: 0.8547\n",
      "Epoch 51/100\n",
      "24/24 [==============================] - 0s 848us/step - loss: 0.3055 - accuracy: 0.8600\n",
      "Epoch 52/100\n",
      "24/24 [==============================] - 0s 739us/step - loss: 0.3032 - accuracy: 0.8627\n",
      "Epoch 53/100\n",
      "24/24 [==============================] - 0s 761us/step - loss: 0.3012 - accuracy: 0.8653\n",
      "Epoch 54/100\n",
      "24/24 [==============================] - 0s 826us/step - loss: 0.2992 - accuracy: 0.8680\n",
      "Epoch 55/100\n",
      "24/24 [==============================] - 0s 783us/step - loss: 0.2975 - accuracy: 0.8707\n",
      "Epoch 56/100\n",
      "24/24 [==============================] - 0s 783us/step - loss: 0.2958 - accuracy: 0.8720\n",
      "Epoch 57/100\n",
      "24/24 [==============================] - 0s 761us/step - loss: 0.2943 - accuracy: 0.8733\n",
      "Epoch 58/100\n",
      "24/24 [==============================] - 0s 761us/step - loss: 0.2929 - accuracy: 0.8747\n",
      "Epoch 59/100\n",
      "24/24 [==============================] - 0s 826us/step - loss: 0.2917 - accuracy: 0.8760\n",
      "Epoch 60/100\n",
      "24/24 [==============================] - 0s 804us/step - loss: 0.2905 - accuracy: 0.8773\n",
      "Epoch 61/100\n",
      "24/24 [==============================] - 0s 783us/step - loss: 0.2893 - accuracy: 0.8787\n",
      "Epoch 62/100\n",
      "24/24 [==============================] - 0s 826us/step - loss: 0.2882 - accuracy: 0.8800\n",
      "Epoch 63/100\n",
      "24/24 [==============================] - 0s 804us/step - loss: 0.2871 - accuracy: 0.8800\n",
      "Epoch 64/100\n",
      "24/24 [==============================] - 0s 804us/step - loss: 0.2861 - accuracy: 0.8813\n",
      "Epoch 65/100\n",
      "24/24 [==============================] - 0s 804us/step - loss: 0.2851 - accuracy: 0.8813\n",
      "Epoch 66/100\n",
      "24/24 [==============================] - 0s 783us/step - loss: 0.2842 - accuracy: 0.8813\n",
      "Epoch 67/100\n",
      "24/24 [==============================] - 0s 761us/step - loss: 0.2833 - accuracy: 0.8840\n",
      "Epoch 68/100\n",
      "24/24 [==============================] - 0s 761us/step - loss: 0.2824 - accuracy: 0.8867\n",
      "Epoch 69/100\n",
      "24/24 [==============================] - 0s 826us/step - loss: 0.2815 - accuracy: 0.8867\n",
      "Epoch 70/100\n",
      "24/24 [==============================] - 0s 783us/step - loss: 0.2808 - accuracy: 0.8867\n",
      "Epoch 71/100\n",
      "24/24 [==============================] - 0s 783us/step - loss: 0.2801 - accuracy: 0.8867\n",
      "Epoch 72/100\n",
      "24/24 [==============================] - 0s 804us/step - loss: 0.2792 - accuracy: 0.8867\n",
      "Epoch 73/100\n",
      "24/24 [==============================] - 0s 761us/step - loss: 0.2785 - accuracy: 0.8867\n",
      "Epoch 74/100\n",
      "24/24 [==============================] - 0s 826us/step - loss: 0.2779 - accuracy: 0.8853\n",
      "Epoch 75/100\n",
      "24/24 [==============================] - 0s 783us/step - loss: 0.2771 - accuracy: 0.8853\n",
      "Epoch 76/100\n",
      "24/24 [==============================] - 0s 761us/step - loss: 0.2765 - accuracy: 0.8840\n",
      "Epoch 77/100\n",
      "24/24 [==============================] - 0s 783us/step - loss: 0.2758 - accuracy: 0.8867\n",
      "Epoch 78/100\n",
      "24/24 [==============================] - 0s 891us/step - loss: 0.2752 - accuracy: 0.8867\n",
      "Epoch 79/100\n",
      "24/24 [==============================] - 0s 826us/step - loss: 0.2747 - accuracy: 0.8867\n",
      "Epoch 80/100\n",
      "24/24 [==============================] - 0s 848us/step - loss: 0.2740 - accuracy: 0.8867\n",
      "Epoch 81/100\n",
      "24/24 [==============================] - 0s 805us/step - loss: 0.2735 - accuracy: 0.8867\n",
      "Epoch 82/100\n",
      "24/24 [==============================] - 0s 804us/step - loss: 0.2729 - accuracy: 0.8880\n",
      "Epoch 83/100\n",
      "24/24 [==============================] - 0s 891us/step - loss: 0.2724 - accuracy: 0.8880\n",
      "Epoch 84/100\n",
      "24/24 [==============================] - 0s 783us/step - loss: 0.2719 - accuracy: 0.8893\n",
      "Epoch 85/100\n",
      "24/24 [==============================] - 0s 804us/step - loss: 0.2714 - accuracy: 0.8893\n",
      "Epoch 86/100\n",
      "24/24 [==============================] - 0s 804us/step - loss: 0.2709 - accuracy: 0.8893\n",
      "Epoch 87/100\n",
      "24/24 [==============================] - 0s 783us/step - loss: 0.2705 - accuracy: 0.8893\n",
      "Epoch 88/100\n",
      "24/24 [==============================] - 0s 826us/step - loss: 0.2700 - accuracy: 0.8880\n",
      "Epoch 89/100\n",
      "24/24 [==============================] - 0s 805us/step - loss: 0.2696 - accuracy: 0.8893\n",
      "Epoch 90/100\n",
      "24/24 [==============================] - 0s 783us/step - loss: 0.2692 - accuracy: 0.8880\n",
      "Epoch 91/100\n",
      "24/24 [==============================] - 0s 804us/step - loss: 0.2688 - accuracy: 0.8893\n",
      "Epoch 92/100\n",
      "24/24 [==============================] - 0s 804us/step - loss: 0.2683 - accuracy: 0.8893\n",
      "Epoch 93/100\n",
      "24/24 [==============================] - 0s 761us/step - loss: 0.2680 - accuracy: 0.8893\n",
      "Epoch 94/100\n",
      "24/24 [==============================] - 0s 805us/step - loss: 0.2676 - accuracy: 0.8893\n",
      "Epoch 95/100\n",
      "24/24 [==============================] - 0s 783us/step - loss: 0.2672 - accuracy: 0.8907\n",
      "Epoch 96/100\n",
      "24/24 [==============================] - 0s 761us/step - loss: 0.2670 - accuracy: 0.8907\n",
      "Epoch 97/100\n",
      "24/24 [==============================] - 0s 848us/step - loss: 0.2666 - accuracy: 0.8893\n",
      "Epoch 98/100\n",
      "24/24 [==============================] - 0s 891us/step - loss: 0.2662 - accuracy: 0.8907\n",
      "Epoch 99/100\n",
      "24/24 [==============================] - 0s 957us/step - loss: 0.2658 - accuracy: 0.8893\n",
      "Epoch 100/100\n",
      "24/24 [==============================] - 0s 913us/step - loss: 0.2656 - accuracy: 0.8920\n"
     ]
    }
   ],
   "source": [
    "# Training the model with the nonlinear data\n",
    "model_moon = nn_model.fit(X_moon_train_scaled, y_moon_train, epochs=100, shuffle=True)"
   ]
  },
  {
   "cell_type": "code",
   "execution_count": 18,
   "metadata": {},
   "outputs": [
    {
     "data": {
      "text/plain": [
       "<AxesSubplot:>"
      ]
     },
     "execution_count": 18,
     "metadata": {},
     "output_type": "execute_result"
    },
    {
     "data": {
      "image/png": "[encoded data removed]",
      "text/plain": [
       "<Figure size 432x288 with 1 Axes>"
      ]
     },
     "metadata": {
      "needs_background": "light"
     },
     "output_type": "display_data"
    }
   ],
   "source": [
    "# Create a DataFrame containing training history\n",
    "history_df = pd.DataFrame(model_moon.history, index=range(1,len(model_moon.history[\"loss\"])+1))\n",
    "\n",
    "# Plot the loss\n",
    "history_df.plot(y=\"loss\")"
   ]
  },
  {
   "cell_type": "code",
   "execution_count": 19,
   "metadata": {},
   "outputs": [
    {
     "data": {
      "text/plain": [
       "<AxesSubplot:>"
      ]
     },
     "execution_count": 19,
     "metadata": {},
     "output_type": "execute_result"
    },
    {
     "data": {
      "image/png": "[encoded data removed]",
      "text/plain": [
       "<Figure size 432x288 with 1 Axes>"
      ]
     },
     "metadata": {
      "needs_background": "light"
     },
     "output_type": "display_data"
    }
   ],
   "source": [
    "# Plot the accuracy\n",
    "history_df.plot(y=\"accuracy\")"
   ]
  },
  {
   "cell_type": "code",
   "execution_count": 20,
   "metadata": {},
   "outputs": [],
   "source": [
    "# Generate our new Sequential model\n",
    "new_model = tf.keras.models.Sequential()"
   ]
  },
  {
   "cell_type": "code",
   "execution_count": 21,
   "metadata": {},
   "outputs": [],
   "source": [
    "# Add the input and hidden layer\n",
    "number_inputs = 2\n",
    "number_hidden_nodes = 6\n",
    "\n",
    "new_model.add(tf.keras.layers.Dense(units=number_hidden_nodes, activation=\"relu\", input_dim=number_inputs))\n",
    "\n",
    "# Add the output layer that uses a probability activation function\n",
    "new_model.add(tf.keras.layers.Dense(units=1, activation=\"sigmoid\"))"
   ]
  },
  {
   "cell_type": "code",
   "execution_count": 22,
   "metadata": {},
   "outputs": [
    {
     "name": "stdout",
     "output_type": "stream",
     "text": [
      "Epoch 1/100\n",
      "24/24 [==============================] - 0s 609us/step - loss: 0.7091 - accuracy: 0.6573\n",
      "Epoch 2/100\n",
      "24/24 [==============================] - 0s 609us/step - loss: 0.6772 - accuracy: 0.6760\n",
      "Epoch 3/100\n",
      "24/24 [==============================] - 0s 631us/step - loss: 0.6492 - accuracy: 0.6907\n",
      "Epoch 4/100\n",
      "24/24 [==============================] - 0s 565us/step - loss: 0.6237 - accuracy: 0.7107\n",
      "Epoch 5/100\n",
      "24/24 [==============================] - 0s 587us/step - loss: 0.6003 - accuracy: 0.7373\n",
      "Epoch 6/100\n",
      "24/24 [==============================] - 0s 587us/step - loss: 0.5783 - accuracy: 0.7520\n",
      "Epoch 7/100\n",
      "24/24 [==============================] - 0s 609us/step - loss: 0.5574 - accuracy: 0.7627\n",
      "Epoch 8/100\n",
      "24/24 [==============================] - 0s 631us/step - loss: 0.5372 - accuracy: 0.7613\n",
      "Epoch 9/100\n",
      "24/24 [==============================] - 0s 544us/step - loss: 0.5178 - accuracy: 0.7667\n",
      "Epoch 10/100\n",
      "24/24 [==============================] - 0s 609us/step - loss: 0.4991 - accuracy: 0.7733\n",
      "Epoch 11/100\n",
      "24/24 [==============================] - 0s 587us/step - loss: 0.4808 - accuracy: 0.7720\n",
      "Epoch 12/100\n",
      "24/24 [==============================] - 0s 565us/step - loss: 0.4634 - accuracy: 0.7787\n",
      "Epoch 13/100\n",
      "24/24 [==============================] - 0s 609us/step - loss: 0.4469 - accuracy: 0.7787\n",
      "Epoch 14/100\n",
      "24/24 [==============================] - 0s 565us/step - loss: 0.4303 - accuracy: 0.7880\n",
      "Epoch 15/100\n",
      "24/24 [==============================] - 0s 565us/step - loss: 0.4143 - accuracy: 0.7947\n",
      "Epoch 16/100\n",
      "24/24 [==============================] - 0s 565us/step - loss: 0.3995 - accuracy: 0.8053\n",
      "Epoch 17/100\n",
      "24/24 [==============================] - 0s 544us/step - loss: 0.3854 - accuracy: 0.8147\n",
      "Epoch 18/100\n",
      "24/24 [==============================] - 0s 565us/step - loss: 0.3723 - accuracy: 0.8200\n",
      "Epoch 19/100\n",
      "24/24 [==============================] - 0s 587us/step - loss: 0.3603 - accuracy: 0.8253\n",
      "Epoch 20/100\n",
      "24/24 [==============================] - 0s 631us/step - loss: 0.3494 - accuracy: 0.8333\n",
      "Epoch 21/100\n",
      "24/24 [==============================] - 0s 652us/step - loss: 0.3392 - accuracy: 0.8347\n",
      "Epoch 22/100\n",
      "24/24 [==============================] - 0s 652us/step - loss: 0.3295 - accuracy: 0.8440\n",
      "Epoch 23/100\n",
      "24/24 [==============================] - 0s 587us/step - loss: 0.3209 - accuracy: 0.8587\n",
      "Epoch 24/100\n",
      "24/24 [==============================] - 0s 565us/step - loss: 0.3129 - accuracy: 0.8653\n",
      "Epoch 25/100\n",
      "24/24 [==============================] - 0s 609us/step - loss: 0.3061 - accuracy: 0.8720\n",
      "Epoch 26/100\n",
      "24/24 [==============================] - 0s 587us/step - loss: 0.3003 - accuracy: 0.8760\n",
      "Epoch 27/100\n",
      "24/24 [==============================] - 0s 609us/step - loss: 0.2951 - accuracy: 0.8787\n",
      "Epoch 28/100\n",
      "24/24 [==============================] - 0s 522us/step - loss: 0.2909 - accuracy: 0.8787\n",
      "Epoch 29/100\n",
      "24/24 [==============================] - 0s 565us/step - loss: 0.2871 - accuracy: 0.8800\n",
      "Epoch 30/100\n",
      "24/24 [==============================] - 0s 587us/step - loss: 0.2837 - accuracy: 0.8800\n",
      "Epoch 31/100\n",
      "24/24 [==============================] - 0s 565us/step - loss: 0.2808 - accuracy: 0.8800\n",
      "Epoch 32/100\n",
      "24/24 [==============================] - 0s 587us/step - loss: 0.2783 - accuracy: 0.8800\n",
      "Epoch 33/100\n",
      "24/24 [==============================] - 0s 609us/step - loss: 0.2760 - accuracy: 0.8800\n",
      "Epoch 34/100\n",
      "24/24 [==============================] - 0s 565us/step - loss: 0.2742 - accuracy: 0.8800\n",
      "Epoch 35/100\n",
      "24/24 [==============================] - 0s 565us/step - loss: 0.2724 - accuracy: 0.8800\n",
      "Epoch 36/100\n",
      "24/24 [==============================] - 0s 544us/step - loss: 0.2709 - accuracy: 0.8800\n",
      "Epoch 37/100\n",
      "24/24 [==============================] - 0s 565us/step - loss: 0.2695 - accuracy: 0.8840\n",
      "Epoch 38/100\n",
      "24/24 [==============================] - 0s 522us/step - loss: 0.2684 - accuracy: 0.8867\n",
      "Epoch 39/100\n",
      "24/24 [==============================] - 0s 587us/step - loss: 0.2670 - accuracy: 0.8853\n",
      "Epoch 40/100\n",
      "24/24 [==============================] - 0s 522us/step - loss: 0.2659 - accuracy: 0.8867\n",
      "Epoch 41/100\n",
      "24/24 [==============================] - 0s 544us/step - loss: 0.2649 - accuracy: 0.8867\n",
      "Epoch 42/100\n",
      "24/24 [==============================] - 0s 544us/step - loss: 0.2638 - accuracy: 0.8867\n",
      "Epoch 43/100\n",
      "24/24 [==============================] - 0s 565us/step - loss: 0.2629 - accuracy: 0.8880\n",
      "Epoch 44/100\n",
      "24/24 [==============================] - 0s 500us/step - loss: 0.2621 - accuracy: 0.8880\n",
      "Epoch 45/100\n",
      "24/24 [==============================] - 0s 544us/step - loss: 0.2612 - accuracy: 0.8893\n",
      "Epoch 46/100\n",
      "24/24 [==============================] - 0s 609us/step - loss: 0.2603 - accuracy: 0.8893\n",
      "Epoch 47/100\n",
      "24/24 [==============================] - 0s 587us/step - loss: 0.2597 - accuracy: 0.8907\n",
      "Epoch 48/100\n",
      "24/24 [==============================] - 0s 587us/step - loss: 0.2590 - accuracy: 0.8920\n",
      "Epoch 49/100\n",
      "24/24 [==============================] - 0s 544us/step - loss: 0.2582 - accuracy: 0.8920\n",
      "Epoch 50/100\n",
      "24/24 [==============================] - 0s 565us/step - loss: 0.2577 - accuracy: 0.8907\n",
      "Epoch 51/100\n",
      "24/24 [==============================] - 0s 565us/step - loss: 0.2570 - accuracy: 0.8920\n",
      "Epoch 52/100\n",
      "24/24 [==============================] - 0s 609us/step - loss: 0.2566 - accuracy: 0.8920\n",
      "Epoch 53/100\n",
      "24/24 [==============================] - 0s 565us/step - loss: 0.2559 - accuracy: 0.8920\n",
      "Epoch 54/100\n",
      "24/24 [==============================] - 0s 609us/step - loss: 0.2554 - accuracy: 0.8920\n",
      "Epoch 55/100\n",
      "24/24 [==============================] - 0s 565us/step - loss: 0.2550 - accuracy: 0.8947\n",
      "Epoch 56/100\n",
      "24/24 [==============================] - 0s 565us/step - loss: 0.2544 - accuracy: 0.8947\n",
      "Epoch 57/100\n",
      "24/24 [==============================] - 0s 565us/step - loss: 0.2540 - accuracy: 0.8933\n",
      "Epoch 58/100\n",
      "24/24 [==============================] - 0s 522us/step - loss: 0.2534 - accuracy: 0.8933\n",
      "Epoch 59/100\n",
      "24/24 [==============================] - 0s 565us/step - loss: 0.2530 - accuracy: 0.8933\n",
      "Epoch 60/100\n",
      "24/24 [==============================] - 0s 587us/step - loss: 0.2526 - accuracy: 0.8933\n",
      "Epoch 61/100\n",
      "24/24 [==============================] - 0s 565us/step - loss: 0.2521 - accuracy: 0.8933\n",
      "Epoch 62/100\n",
      "24/24 [==============================] - 0s 565us/step - loss: 0.2517 - accuracy: 0.8933\n",
      "Epoch 63/100\n",
      "24/24 [==============================] - 0s 565us/step - loss: 0.2513 - accuracy: 0.8933\n",
      "Epoch 64/100\n",
      "24/24 [==============================] - 0s 587us/step - loss: 0.2510 - accuracy: 0.8933\n",
      "Epoch 65/100\n",
      "24/24 [==============================] - 0s 565us/step - loss: 0.2506 - accuracy: 0.8920\n",
      "Epoch 66/100\n",
      "24/24 [==============================] - 0s 565us/step - loss: 0.2502 - accuracy: 0.8920\n",
      "Epoch 67/100\n",
      "24/24 [==============================] - 0s 587us/step - loss: 0.2499 - accuracy: 0.8920\n",
      "Epoch 68/100\n",
      "24/24 [==============================] - 0s 587us/step - loss: 0.2495 - accuracy: 0.8933\n",
      "Epoch 69/100\n",
      "24/24 [==============================] - 0s 544us/step - loss: 0.2492 - accuracy: 0.8933\n",
      "Epoch 70/100\n",
      "24/24 [==============================] - 0s 587us/step - loss: 0.2489 - accuracy: 0.8933\n",
      "Epoch 71/100\n",
      "24/24 [==============================] - 0s 565us/step - loss: 0.2488 - accuracy: 0.8933\n",
      "Epoch 72/100\n",
      "24/24 [==============================] - 0s 609us/step - loss: 0.2484 - accuracy: 0.8933\n",
      "Epoch 73/100\n",
      "24/24 [==============================] - 0s 565us/step - loss: 0.2481 - accuracy: 0.8933\n",
      "Epoch 74/100\n",
      "24/24 [==============================] - 0s 565us/step - loss: 0.2479 - accuracy: 0.8933\n",
      "Epoch 75/100\n",
      "24/24 [==============================] - 0s 565us/step - loss: 0.2477 - accuracy: 0.8933\n",
      "Epoch 76/100\n",
      "24/24 [==============================] - 0s 587us/step - loss: 0.2474 - accuracy: 0.8933\n",
      "Epoch 77/100\n",
      "24/24 [==============================] - 0s 565us/step - loss: 0.2473 - accuracy: 0.8933\n",
      "Epoch 78/100\n",
      "24/24 [==============================] - 0s 565us/step - loss: 0.2470 - accuracy: 0.8933\n",
      "Epoch 79/100\n",
      "24/24 [==============================] - 0s 544us/step - loss: 0.2469 - accuracy: 0.8933\n",
      "Epoch 80/100\n",
      "24/24 [==============================] - 0s 544us/step - loss: 0.2466 - accuracy: 0.8933\n",
      "Epoch 81/100\n",
      "24/24 [==============================] - 0s 544us/step - loss: 0.2464 - accuracy: 0.8933\n",
      "Epoch 82/100\n",
      "24/24 [==============================] - 0s 544us/step - loss: 0.2462 - accuracy: 0.8933\n",
      "Epoch 83/100\n",
      "24/24 [==============================] - 0s 587us/step - loss: 0.2460 - accuracy: 0.8933\n",
      "Epoch 84/100\n",
      "24/24 [==============================] - 0s 565us/step - loss: 0.2457 - accuracy: 0.8933\n",
      "Epoch 85/100\n",
      "24/24 [==============================] - 0s 696us/step - loss: 0.2456 - accuracy: 0.8933\n",
      "Epoch 86/100\n",
      "24/24 [==============================] - 0s 544us/step - loss: 0.2454 - accuracy: 0.8933\n",
      "Epoch 87/100\n",
      "24/24 [==============================] - 0s 565us/step - loss: 0.2453 - accuracy: 0.8933\n",
      "Epoch 88/100\n",
      "24/24 [==============================] - 0s 565us/step - loss: 0.2450 - accuracy: 0.8933\n",
      "Epoch 89/100\n",
      "24/24 [==============================] - 0s 631us/step - loss: 0.2448 - accuracy: 0.8933\n",
      "Epoch 90/100\n",
      "24/24 [==============================] - 0s 544us/step - loss: 0.2446 - accuracy: 0.8933\n",
      "Epoch 91/100\n",
      "24/24 [==============================] - 0s 587us/step - loss: 0.2445 - accuracy: 0.8920\n",
      "Epoch 92/100\n",
      "24/24 [==============================] - 0s 522us/step - loss: 0.2442 - accuracy: 0.8933\n",
      "Epoch 93/100\n",
      "24/24 [==============================] - 0s 609us/step - loss: 0.2439 - accuracy: 0.8933\n",
      "Epoch 94/100\n",
      "24/24 [==============================] - 0s 587us/step - loss: 0.2438 - accuracy: 0.8933\n",
      "Epoch 95/100\n",
      "24/24 [==============================] - 0s 587us/step - loss: 0.2435 - accuracy: 0.8933\n",
      "Epoch 96/100\n",
      "24/24 [==============================] - 0s 544us/step - loss: 0.2435 - accuracy: 0.8933\n",
      "Epoch 97/100\n",
      "24/24 [==============================] - 0s 587us/step - loss: 0.2432 - accuracy: 0.8933\n",
      "Epoch 98/100\n",
      "24/24 [==============================] - 0s 544us/step - loss: 0.2429 - accuracy: 0.8947\n",
      "Epoch 99/100\n",
      "24/24 [==============================] - 0s 565us/step - loss: 0.2427 - accuracy: 0.8947\n",
      "Epoch 100/100\n",
      "24/24 [==============================] - 0s 609us/step - loss: 0.2427 - accuracy: 0.8933\n"
     ]
    }
   ],
   "source": [
    "# Compile the Sequential model together and customize metrics\n",
    "new_model.compile(loss=\"binary_crossentropy\", optimizer=\"adam\", metrics=[\"accuracy\"])\n",
    "\n",
    "# Fit the model to the training data\n",
    "new_fit_model = new_model.fit(X_moon_train_scaled, y_moon_train, epochs=100, shuffle=True)"
   ]
  },
  {
   "cell_type": "code",
   "execution_count": null,
   "metadata": {},
   "outputs": [],
   "source": []
  }
 ],
 "metadata": {
  "interpreter": {
   "hash": "7b7b420d20f2322f65523a2f8e277c8414018eeb5ae0cd072ccb004c1cae25f0"
  },
  "kernelspec": {
   "display_name": "Python 3.10.1 64-bit",
   "language": "python",
   "name": "python3"
  },
  "language_info": {
   "codemirror_mode": {
    "name": "ipython",
    "version": 3
   },
   "file_extension": ".py",
   "mimetype": "text/x-python",
   "name": "python",
   "nbconvert_exporter": "python",
   "pygments_lexer": "ipython3",
   "version": "3.10.1"
  },
  "orig_nbformat": 4
 },
 "nbformat": 4,
 "nbformat_minor": 2
}
